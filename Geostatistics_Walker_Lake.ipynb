{
 "cells": [
  {
   "cell_type": "code",
   "execution_count": 1,
   "metadata": {},
   "outputs": [],
   "source": [
    "import matplotlib.pyplot as plt\n",
    "import pandas as pd\n",
    "import numpy as np\n",
    "import seaborn as sns\n",
    "import scipy\n",
    "import math\n",
    "import pylab "
   ]
  },
  {
   "cell_type": "code",
   "execution_count": 2,
   "metadata": {},
   "outputs": [],
   "source": [
    "exhaustive = pd.read_table(\"Exhaustive_set.dat\", sep=\",\")"
   ]
  },
  {
   "cell_type": "code",
   "execution_count": 3,
   "metadata": {},
   "outputs": [
    {
     "data": {
      "text/html": [
       "<div>\n",
       "<style scoped>\n",
       "    .dataframe tbody tr th:only-of-type {\n",
       "        vertical-align: middle;\n",
       "    }\n",
       "\n",
       "    .dataframe tbody tr th {\n",
       "        vertical-align: top;\n",
       "    }\n",
       "\n",
       "    .dataframe thead th {\n",
       "        text-align: right;\n",
       "    }\n",
       "</style>\n",
       "<table border=\"1\" class=\"dataframe\">\n",
       "  <thead>\n",
       "    <tr style=\"text-align: right;\">\n",
       "      <th></th>\n",
       "      <th>X</th>\n",
       "      <th>Y</th>\n",
       "      <th>U</th>\n",
       "      <th>V</th>\n",
       "    </tr>\n",
       "  </thead>\n",
       "  <tbody>\n",
       "    <tr>\n",
       "      <th>0</th>\n",
       "      <td>1</td>\n",
       "      <td>1</td>\n",
       "      <td>0.000</td>\n",
       "      <td>0.00</td>\n",
       "    </tr>\n",
       "    <tr>\n",
       "      <th>1</th>\n",
       "      <td>2</td>\n",
       "      <td>1</td>\n",
       "      <td>0.000</td>\n",
       "      <td>0.00</td>\n",
       "    </tr>\n",
       "    <tr>\n",
       "      <th>2</th>\n",
       "      <td>3</td>\n",
       "      <td>1</td>\n",
       "      <td>0.000</td>\n",
       "      <td>0.00</td>\n",
       "    </tr>\n",
       "    <tr>\n",
       "      <th>3</th>\n",
       "      <td>4</td>\n",
       "      <td>1</td>\n",
       "      <td>0.000</td>\n",
       "      <td>0.00</td>\n",
       "    </tr>\n",
       "    <tr>\n",
       "      <th>4</th>\n",
       "      <td>5</td>\n",
       "      <td>1</td>\n",
       "      <td>0.000</td>\n",
       "      <td>0.00</td>\n",
       "    </tr>\n",
       "    <tr>\n",
       "      <th>5</th>\n",
       "      <td>6</td>\n",
       "      <td>1</td>\n",
       "      <td>0.000</td>\n",
       "      <td>0.00</td>\n",
       "    </tr>\n",
       "    <tr>\n",
       "      <th>6</th>\n",
       "      <td>7</td>\n",
       "      <td>1</td>\n",
       "      <td>0.000</td>\n",
       "      <td>0.00</td>\n",
       "    </tr>\n",
       "    <tr>\n",
       "      <th>7</th>\n",
       "      <td>8</td>\n",
       "      <td>1</td>\n",
       "      <td>1.686</td>\n",
       "      <td>85.40</td>\n",
       "    </tr>\n",
       "    <tr>\n",
       "      <th>8</th>\n",
       "      <td>9</td>\n",
       "      <td>1</td>\n",
       "      <td>1.771</td>\n",
       "      <td>87.73</td>\n",
       "    </tr>\n",
       "    <tr>\n",
       "      <th>9</th>\n",
       "      <td>10</td>\n",
       "      <td>1</td>\n",
       "      <td>0.023</td>\n",
       "      <td>0.00</td>\n",
       "    </tr>\n",
       "    <tr>\n",
       "      <th>10</th>\n",
       "      <td>11</td>\n",
       "      <td>1</td>\n",
       "      <td>0.022</td>\n",
       "      <td>0.00</td>\n",
       "    </tr>\n",
       "    <tr>\n",
       "      <th>11</th>\n",
       "      <td>12</td>\n",
       "      <td>1</td>\n",
       "      <td>0.022</td>\n",
       "      <td>0.00</td>\n",
       "    </tr>\n",
       "    <tr>\n",
       "      <th>12</th>\n",
       "      <td>13</td>\n",
       "      <td>1</td>\n",
       "      <td>0.017</td>\n",
       "      <td>0.00</td>\n",
       "    </tr>\n",
       "    <tr>\n",
       "      <th>13</th>\n",
       "      <td>14</td>\n",
       "      <td>1</td>\n",
       "      <td>0.000</td>\n",
       "      <td>0.00</td>\n",
       "    </tr>\n",
       "    <tr>\n",
       "      <th>14</th>\n",
       "      <td>15</td>\n",
       "      <td>1</td>\n",
       "      <td>0.000</td>\n",
       "      <td>0.00</td>\n",
       "    </tr>\n",
       "    <tr>\n",
       "      <th>15</th>\n",
       "      <td>16</td>\n",
       "      <td>1</td>\n",
       "      <td>0.000</td>\n",
       "      <td>0.00</td>\n",
       "    </tr>\n",
       "    <tr>\n",
       "      <th>16</th>\n",
       "      <td>17</td>\n",
       "      <td>1</td>\n",
       "      <td>0.000</td>\n",
       "      <td>0.00</td>\n",
       "    </tr>\n",
       "    <tr>\n",
       "      <th>17</th>\n",
       "      <td>18</td>\n",
       "      <td>1</td>\n",
       "      <td>0.019</td>\n",
       "      <td>33.26</td>\n",
       "    </tr>\n",
       "    <tr>\n",
       "      <th>18</th>\n",
       "      <td>19</td>\n",
       "      <td>1</td>\n",
       "      <td>0.000</td>\n",
       "      <td>0.00</td>\n",
       "    </tr>\n",
       "    <tr>\n",
       "      <th>19</th>\n",
       "      <td>20</td>\n",
       "      <td>1</td>\n",
       "      <td>0.000</td>\n",
       "      <td>0.00</td>\n",
       "    </tr>\n",
       "    <tr>\n",
       "      <th>20</th>\n",
       "      <td>21</td>\n",
       "      <td>1</td>\n",
       "      <td>0.000</td>\n",
       "      <td>0.00</td>\n",
       "    </tr>\n",
       "    <tr>\n",
       "      <th>21</th>\n",
       "      <td>22</td>\n",
       "      <td>1</td>\n",
       "      <td>0.000</td>\n",
       "      <td>0.00</td>\n",
       "    </tr>\n",
       "    <tr>\n",
       "      <th>22</th>\n",
       "      <td>23</td>\n",
       "      <td>1</td>\n",
       "      <td>0.000</td>\n",
       "      <td>0.00</td>\n",
       "    </tr>\n",
       "    <tr>\n",
       "      <th>23</th>\n",
       "      <td>24</td>\n",
       "      <td>1</td>\n",
       "      <td>0.004</td>\n",
       "      <td>0.00</td>\n",
       "    </tr>\n",
       "    <tr>\n",
       "      <th>24</th>\n",
       "      <td>25</td>\n",
       "      <td>1</td>\n",
       "      <td>0.037</td>\n",
       "      <td>22.94</td>\n",
       "    </tr>\n",
       "    <tr>\n",
       "      <th>25</th>\n",
       "      <td>26</td>\n",
       "      <td>1</td>\n",
       "      <td>0.358</td>\n",
       "      <td>24.57</td>\n",
       "    </tr>\n",
       "    <tr>\n",
       "      <th>26</th>\n",
       "      <td>27</td>\n",
       "      <td>1</td>\n",
       "      <td>18.302</td>\n",
       "      <td>221.50</td>\n",
       "    </tr>\n",
       "    <tr>\n",
       "      <th>27</th>\n",
       "      <td>28</td>\n",
       "      <td>1</td>\n",
       "      <td>16.281</td>\n",
       "      <td>218.67</td>\n",
       "    </tr>\n",
       "    <tr>\n",
       "      <th>28</th>\n",
       "      <td>29</td>\n",
       "      <td>1</td>\n",
       "      <td>32.808</td>\n",
       "      <td>273.49</td>\n",
       "    </tr>\n",
       "    <tr>\n",
       "      <th>29</th>\n",
       "      <td>30</td>\n",
       "      <td>1</td>\n",
       "      <td>17.856</td>\n",
       "      <td>236.35</td>\n",
       "    </tr>\n",
       "    <tr>\n",
       "      <th>...</th>\n",
       "      <td>...</td>\n",
       "      <td>...</td>\n",
       "      <td>...</td>\n",
       "      <td>...</td>\n",
       "    </tr>\n",
       "    <tr>\n",
       "      <th>77970</th>\n",
       "      <td>231</td>\n",
       "      <td>300</td>\n",
       "      <td>0.062</td>\n",
       "      <td>0.37</td>\n",
       "    </tr>\n",
       "    <tr>\n",
       "      <th>77971</th>\n",
       "      <td>232</td>\n",
       "      <td>300</td>\n",
       "      <td>0.119</td>\n",
       "      <td>1.65</td>\n",
       "    </tr>\n",
       "    <tr>\n",
       "      <th>77972</th>\n",
       "      <td>233</td>\n",
       "      <td>300</td>\n",
       "      <td>0.866</td>\n",
       "      <td>6.32</td>\n",
       "    </tr>\n",
       "    <tr>\n",
       "      <th>77973</th>\n",
       "      <td>234</td>\n",
       "      <td>300</td>\n",
       "      <td>1.686</td>\n",
       "      <td>9.72</td>\n",
       "    </tr>\n",
       "    <tr>\n",
       "      <th>77974</th>\n",
       "      <td>235</td>\n",
       "      <td>300</td>\n",
       "      <td>1.051</td>\n",
       "      <td>7.02</td>\n",
       "    </tr>\n",
       "    <tr>\n",
       "      <th>77975</th>\n",
       "      <td>236</td>\n",
       "      <td>300</td>\n",
       "      <td>0.989</td>\n",
       "      <td>8.87</td>\n",
       "    </tr>\n",
       "    <tr>\n",
       "      <th>77976</th>\n",
       "      <td>237</td>\n",
       "      <td>300</td>\n",
       "      <td>1.027</td>\n",
       "      <td>9.78</td>\n",
       "    </tr>\n",
       "    <tr>\n",
       "      <th>77977</th>\n",
       "      <td>238</td>\n",
       "      <td>300</td>\n",
       "      <td>1.134</td>\n",
       "      <td>8.36</td>\n",
       "    </tr>\n",
       "    <tr>\n",
       "      <th>77978</th>\n",
       "      <td>239</td>\n",
       "      <td>300</td>\n",
       "      <td>1.227</td>\n",
       "      <td>9.63</td>\n",
       "    </tr>\n",
       "    <tr>\n",
       "      <th>77979</th>\n",
       "      <td>240</td>\n",
       "      <td>300</td>\n",
       "      <td>1.303</td>\n",
       "      <td>11.46</td>\n",
       "    </tr>\n",
       "    <tr>\n",
       "      <th>77980</th>\n",
       "      <td>241</td>\n",
       "      <td>300</td>\n",
       "      <td>6.731</td>\n",
       "      <td>25.53</td>\n",
       "    </tr>\n",
       "    <tr>\n",
       "      <th>77981</th>\n",
       "      <td>242</td>\n",
       "      <td>300</td>\n",
       "      <td>24.137</td>\n",
       "      <td>44.28</td>\n",
       "    </tr>\n",
       "    <tr>\n",
       "      <th>77982</th>\n",
       "      <td>243</td>\n",
       "      <td>300</td>\n",
       "      <td>25.559</td>\n",
       "      <td>50.53</td>\n",
       "    </tr>\n",
       "    <tr>\n",
       "      <th>77983</th>\n",
       "      <td>244</td>\n",
       "      <td>300</td>\n",
       "      <td>25.825</td>\n",
       "      <td>56.71</td>\n",
       "    </tr>\n",
       "    <tr>\n",
       "      <th>77984</th>\n",
       "      <td>245</td>\n",
       "      <td>300</td>\n",
       "      <td>50.924</td>\n",
       "      <td>75.20</td>\n",
       "    </tr>\n",
       "    <tr>\n",
       "      <th>77985</th>\n",
       "      <td>246</td>\n",
       "      <td>300</td>\n",
       "      <td>74.396</td>\n",
       "      <td>94.82</td>\n",
       "    </tr>\n",
       "    <tr>\n",
       "      <th>77986</th>\n",
       "      <td>247</td>\n",
       "      <td>300</td>\n",
       "      <td>6.649</td>\n",
       "      <td>49.01</td>\n",
       "    </tr>\n",
       "    <tr>\n",
       "      <th>77987</th>\n",
       "      <td>248</td>\n",
       "      <td>300</td>\n",
       "      <td>0.000</td>\n",
       "      <td>0.00</td>\n",
       "    </tr>\n",
       "    <tr>\n",
       "      <th>77988</th>\n",
       "      <td>249</td>\n",
       "      <td>300</td>\n",
       "      <td>0.413</td>\n",
       "      <td>12.15</td>\n",
       "    </tr>\n",
       "    <tr>\n",
       "      <th>77989</th>\n",
       "      <td>250</td>\n",
       "      <td>300</td>\n",
       "      <td>1.015</td>\n",
       "      <td>12.21</td>\n",
       "    </tr>\n",
       "    <tr>\n",
       "      <th>77990</th>\n",
       "      <td>251</td>\n",
       "      <td>300</td>\n",
       "      <td>4.741</td>\n",
       "      <td>43.79</td>\n",
       "    </tr>\n",
       "    <tr>\n",
       "      <th>77991</th>\n",
       "      <td>252</td>\n",
       "      <td>300</td>\n",
       "      <td>7.878</td>\n",
       "      <td>54.26</td>\n",
       "    </tr>\n",
       "    <tr>\n",
       "      <th>77992</th>\n",
       "      <td>253</td>\n",
       "      <td>300</td>\n",
       "      <td>15.639</td>\n",
       "      <td>66.70</td>\n",
       "    </tr>\n",
       "    <tr>\n",
       "      <th>77993</th>\n",
       "      <td>254</td>\n",
       "      <td>300</td>\n",
       "      <td>28.259</td>\n",
       "      <td>75.96</td>\n",
       "    </tr>\n",
       "    <tr>\n",
       "      <th>77994</th>\n",
       "      <td>255</td>\n",
       "      <td>300</td>\n",
       "      <td>7.667</td>\n",
       "      <td>48.29</td>\n",
       "    </tr>\n",
       "    <tr>\n",
       "      <th>77995</th>\n",
       "      <td>256</td>\n",
       "      <td>300</td>\n",
       "      <td>11.960</td>\n",
       "      <td>56.41</td>\n",
       "    </tr>\n",
       "    <tr>\n",
       "      <th>77996</th>\n",
       "      <td>257</td>\n",
       "      <td>300</td>\n",
       "      <td>10.753</td>\n",
       "      <td>53.10</td>\n",
       "    </tr>\n",
       "    <tr>\n",
       "      <th>77997</th>\n",
       "      <td>258</td>\n",
       "      <td>300</td>\n",
       "      <td>7.722</td>\n",
       "      <td>45.58</td>\n",
       "    </tr>\n",
       "    <tr>\n",
       "      <th>77998</th>\n",
       "      <td>259</td>\n",
       "      <td>300</td>\n",
       "      <td>7.829</td>\n",
       "      <td>45.26</td>\n",
       "    </tr>\n",
       "    <tr>\n",
       "      <th>77999</th>\n",
       "      <td>260</td>\n",
       "      <td>300</td>\n",
       "      <td>6.833</td>\n",
       "      <td>40.47</td>\n",
       "    </tr>\n",
       "  </tbody>\n",
       "</table>\n",
       "<p>78000 rows × 4 columns</p>\n",
       "</div>"
      ],
      "text/plain": [
       "         X    Y       U       V\n",
       "0        1    1   0.000    0.00\n",
       "1        2    1   0.000    0.00\n",
       "2        3    1   0.000    0.00\n",
       "3        4    1   0.000    0.00\n",
       "4        5    1   0.000    0.00\n",
       "5        6    1   0.000    0.00\n",
       "6        7    1   0.000    0.00\n",
       "7        8    1   1.686   85.40\n",
       "8        9    1   1.771   87.73\n",
       "9       10    1   0.023    0.00\n",
       "10      11    1   0.022    0.00\n",
       "11      12    1   0.022    0.00\n",
       "12      13    1   0.017    0.00\n",
       "13      14    1   0.000    0.00\n",
       "14      15    1   0.000    0.00\n",
       "15      16    1   0.000    0.00\n",
       "16      17    1   0.000    0.00\n",
       "17      18    1   0.019   33.26\n",
       "18      19    1   0.000    0.00\n",
       "19      20    1   0.000    0.00\n",
       "20      21    1   0.000    0.00\n",
       "21      22    1   0.000    0.00\n",
       "22      23    1   0.000    0.00\n",
       "23      24    1   0.004    0.00\n",
       "24      25    1   0.037   22.94\n",
       "25      26    1   0.358   24.57\n",
       "26      27    1  18.302  221.50\n",
       "27      28    1  16.281  218.67\n",
       "28      29    1  32.808  273.49\n",
       "29      30    1  17.856  236.35\n",
       "...    ...  ...     ...     ...\n",
       "77970  231  300   0.062    0.37\n",
       "77971  232  300   0.119    1.65\n",
       "77972  233  300   0.866    6.32\n",
       "77973  234  300   1.686    9.72\n",
       "77974  235  300   1.051    7.02\n",
       "77975  236  300   0.989    8.87\n",
       "77976  237  300   1.027    9.78\n",
       "77977  238  300   1.134    8.36\n",
       "77978  239  300   1.227    9.63\n",
       "77979  240  300   1.303   11.46\n",
       "77980  241  300   6.731   25.53\n",
       "77981  242  300  24.137   44.28\n",
       "77982  243  300  25.559   50.53\n",
       "77983  244  300  25.825   56.71\n",
       "77984  245  300  50.924   75.20\n",
       "77985  246  300  74.396   94.82\n",
       "77986  247  300   6.649   49.01\n",
       "77987  248  300   0.000    0.00\n",
       "77988  249  300   0.413   12.15\n",
       "77989  250  300   1.015   12.21\n",
       "77990  251  300   4.741   43.79\n",
       "77991  252  300   7.878   54.26\n",
       "77992  253  300  15.639   66.70\n",
       "77993  254  300  28.259   75.96\n",
       "77994  255  300   7.667   48.29\n",
       "77995  256  300  11.960   56.41\n",
       "77996  257  300  10.753   53.10\n",
       "77997  258  300   7.722   45.58\n",
       "77998  259  300   7.829   45.26\n",
       "77999  260  300   6.833   40.47\n",
       "\n",
       "[78000 rows x 4 columns]"
      ]
     },
     "execution_count": 3,
     "metadata": {},
     "output_type": "execute_result"
    }
   ],
   "source": [
    "exhaustive"
   ]
  },
  {
   "cell_type": "code",
   "execution_count": 4,
   "metadata": {},
   "outputs": [
    {
     "data": {
      "text/html": [
       "<div>\n",
       "<style scoped>\n",
       "    .dataframe tbody tr th:only-of-type {\n",
       "        vertical-align: middle;\n",
       "    }\n",
       "\n",
       "    .dataframe tbody tr th {\n",
       "        vertical-align: top;\n",
       "    }\n",
       "\n",
       "    .dataframe thead th {\n",
       "        text-align: right;\n",
       "    }\n",
       "</style>\n",
       "<table border=\"1\" class=\"dataframe\">\n",
       "  <thead>\n",
       "    <tr style=\"text-align: right;\">\n",
       "      <th></th>\n",
       "      <th>X</th>\n",
       "      <th>Y</th>\n",
       "      <th>U</th>\n",
       "      <th>V</th>\n",
       "    </tr>\n",
       "  </thead>\n",
       "  <tbody>\n",
       "    <tr>\n",
       "      <th>count</th>\n",
       "      <td>78000.000000</td>\n",
       "      <td>78000.000000</td>\n",
       "      <td>78000.000000</td>\n",
       "      <td>78000.000000</td>\n",
       "    </tr>\n",
       "    <tr>\n",
       "      <th>mean</th>\n",
       "      <td>130.500000</td>\n",
       "      <td>150.500000</td>\n",
       "      <td>266.043819</td>\n",
       "      <td>277.978584</td>\n",
       "    </tr>\n",
       "    <tr>\n",
       "      <th>std</th>\n",
       "      <td>75.055461</td>\n",
       "      <td>86.602614</td>\n",
       "      <td>488.451786</td>\n",
       "      <td>249.846419</td>\n",
       "    </tr>\n",
       "    <tr>\n",
       "      <th>min</th>\n",
       "      <td>1.000000</td>\n",
       "      <td>1.000000</td>\n",
       "      <td>0.000000</td>\n",
       "      <td>0.000000</td>\n",
       "    </tr>\n",
       "    <tr>\n",
       "      <th>25%</th>\n",
       "      <td>65.750000</td>\n",
       "      <td>75.750000</td>\n",
       "      <td>6.673750</td>\n",
       "      <td>67.797500</td>\n",
       "    </tr>\n",
       "    <tr>\n",
       "      <th>50%</th>\n",
       "      <td>130.500000</td>\n",
       "      <td>150.500000</td>\n",
       "      <td>56.902000</td>\n",
       "      <td>221.250000</td>\n",
       "    </tr>\n",
       "    <tr>\n",
       "      <th>75%</th>\n",
       "      <td>195.250000</td>\n",
       "      <td>225.250000</td>\n",
       "      <td>316.350750</td>\n",
       "      <td>429.342500</td>\n",
       "    </tr>\n",
       "    <tr>\n",
       "      <th>max</th>\n",
       "      <td>260.000000</td>\n",
       "      <td>300.000000</td>\n",
       "      <td>9499.507800</td>\n",
       "      <td>1631.160000</td>\n",
       "    </tr>\n",
       "  </tbody>\n",
       "</table>\n",
       "</div>"
      ],
      "text/plain": [
       "                  X             Y             U             V\n",
       "count  78000.000000  78000.000000  78000.000000  78000.000000\n",
       "mean     130.500000    150.500000    266.043819    277.978584\n",
       "std       75.055461     86.602614    488.451786    249.846419\n",
       "min        1.000000      1.000000      0.000000      0.000000\n",
       "25%       65.750000     75.750000      6.673750     67.797500\n",
       "50%      130.500000    150.500000     56.902000    221.250000\n",
       "75%      195.250000    225.250000    316.350750    429.342500\n",
       "max      260.000000    300.000000   9499.507800   1631.160000"
      ]
     },
     "execution_count": 4,
     "metadata": {},
     "output_type": "execute_result"
    }
   ],
   "source": [
    "exhaustive.describe()"
   ]
  },
  {
   "cell_type": "code",
   "execution_count": 5,
   "metadata": {},
   "outputs": [],
   "source": [
    "sample = pd.read_table(\"walker.dat\")"
   ]
  },
  {
   "cell_type": "code",
   "execution_count": 6,
   "metadata": {},
   "outputs": [
    {
     "name": "stdout",
     "output_type": "stream",
     "text": [
      "<class 'pandas.core.frame.DataFrame'>\n",
      "RangeIndex: 470 entries, 0 to 469\n",
      "Data columns (total 6 columns):\n",
      "I    470 non-null int64\n",
      "X    470 non-null int64\n",
      "Y    470 non-null int64\n",
      "V    470 non-null float64\n",
      "U    470 non-null float64\n",
      "T    470 non-null int64\n",
      "dtypes: float64(2), int64(4)\n",
      "memory usage: 22.1 KB\n"
     ]
    }
   ],
   "source": [
    "sample.info()"
   ]
  },
  {
   "cell_type": "code",
   "execution_count": 7,
   "metadata": {},
   "outputs": [
    {
     "data": {
      "text/html": [
       "<div>\n",
       "<style scoped>\n",
       "    .dataframe tbody tr th:only-of-type {\n",
       "        vertical-align: middle;\n",
       "    }\n",
       "\n",
       "    .dataframe tbody tr th {\n",
       "        vertical-align: top;\n",
       "    }\n",
       "\n",
       "    .dataframe thead th {\n",
       "        text-align: right;\n",
       "    }\n",
       "</style>\n",
       "<table border=\"1\" class=\"dataframe\">\n",
       "  <thead>\n",
       "    <tr style=\"text-align: right;\">\n",
       "      <th></th>\n",
       "      <th>I</th>\n",
       "      <th>X</th>\n",
       "      <th>Y</th>\n",
       "      <th>V</th>\n",
       "      <th>U</th>\n",
       "      <th>T</th>\n",
       "    </tr>\n",
       "  </thead>\n",
       "  <tbody>\n",
       "    <tr>\n",
       "      <th>0</th>\n",
       "      <td>1</td>\n",
       "      <td>11</td>\n",
       "      <td>8</td>\n",
       "      <td>0.0</td>\n",
       "      <td>1.000000e+31</td>\n",
       "      <td>2</td>\n",
       "    </tr>\n",
       "    <tr>\n",
       "      <th>1</th>\n",
       "      <td>2</td>\n",
       "      <td>8</td>\n",
       "      <td>30</td>\n",
       "      <td>0.0</td>\n",
       "      <td>1.000000e+31</td>\n",
       "      <td>2</td>\n",
       "    </tr>\n",
       "    <tr>\n",
       "      <th>2</th>\n",
       "      <td>3</td>\n",
       "      <td>9</td>\n",
       "      <td>48</td>\n",
       "      <td>224.4</td>\n",
       "      <td>1.000000e+31</td>\n",
       "      <td>2</td>\n",
       "    </tr>\n",
       "    <tr>\n",
       "      <th>3</th>\n",
       "      <td>4</td>\n",
       "      <td>8</td>\n",
       "      <td>69</td>\n",
       "      <td>434.4</td>\n",
       "      <td>1.000000e+31</td>\n",
       "      <td>2</td>\n",
       "    </tr>\n",
       "    <tr>\n",
       "      <th>4</th>\n",
       "      <td>5</td>\n",
       "      <td>9</td>\n",
       "      <td>90</td>\n",
       "      <td>412.1</td>\n",
       "      <td>1.000000e+31</td>\n",
       "      <td>2</td>\n",
       "    </tr>\n",
       "    <tr>\n",
       "      <th>5</th>\n",
       "      <td>6</td>\n",
       "      <td>10</td>\n",
       "      <td>110</td>\n",
       "      <td>587.2</td>\n",
       "      <td>1.000000e+31</td>\n",
       "      <td>2</td>\n",
       "    </tr>\n",
       "    <tr>\n",
       "      <th>6</th>\n",
       "      <td>7</td>\n",
       "      <td>9</td>\n",
       "      <td>129</td>\n",
       "      <td>192.3</td>\n",
       "      <td>1.000000e+31</td>\n",
       "      <td>2</td>\n",
       "    </tr>\n",
       "    <tr>\n",
       "      <th>7</th>\n",
       "      <td>8</td>\n",
       "      <td>11</td>\n",
       "      <td>150</td>\n",
       "      <td>31.3</td>\n",
       "      <td>1.000000e+31</td>\n",
       "      <td>2</td>\n",
       "    </tr>\n",
       "    <tr>\n",
       "      <th>8</th>\n",
       "      <td>9</td>\n",
       "      <td>10</td>\n",
       "      <td>170</td>\n",
       "      <td>388.5</td>\n",
       "      <td>1.000000e+31</td>\n",
       "      <td>2</td>\n",
       "    </tr>\n",
       "    <tr>\n",
       "      <th>9</th>\n",
       "      <td>10</td>\n",
       "      <td>8</td>\n",
       "      <td>188</td>\n",
       "      <td>174.6</td>\n",
       "      <td>1.000000e+31</td>\n",
       "      <td>2</td>\n",
       "    </tr>\n",
       "    <tr>\n",
       "      <th>10</th>\n",
       "      <td>11</td>\n",
       "      <td>9</td>\n",
       "      <td>209</td>\n",
       "      <td>187.8</td>\n",
       "      <td>1.000000e+31</td>\n",
       "      <td>2</td>\n",
       "    </tr>\n",
       "    <tr>\n",
       "      <th>11</th>\n",
       "      <td>12</td>\n",
       "      <td>10</td>\n",
       "      <td>231</td>\n",
       "      <td>82.1</td>\n",
       "      <td>1.000000e+31</td>\n",
       "      <td>1</td>\n",
       "    </tr>\n",
       "    <tr>\n",
       "      <th>12</th>\n",
       "      <td>13</td>\n",
       "      <td>11</td>\n",
       "      <td>250</td>\n",
       "      <td>81.1</td>\n",
       "      <td>1.000000e+31</td>\n",
       "      <td>1</td>\n",
       "    </tr>\n",
       "    <tr>\n",
       "      <th>13</th>\n",
       "      <td>14</td>\n",
       "      <td>10</td>\n",
       "      <td>269</td>\n",
       "      <td>124.3</td>\n",
       "      <td>1.000000e+31</td>\n",
       "      <td>2</td>\n",
       "    </tr>\n",
       "    <tr>\n",
       "      <th>14</th>\n",
       "      <td>15</td>\n",
       "      <td>8</td>\n",
       "      <td>288</td>\n",
       "      <td>188.0</td>\n",
       "      <td>1.000000e+31</td>\n",
       "      <td>2</td>\n",
       "    </tr>\n",
       "    <tr>\n",
       "      <th>15</th>\n",
       "      <td>16</td>\n",
       "      <td>31</td>\n",
       "      <td>11</td>\n",
       "      <td>28.7</td>\n",
       "      <td>1.000000e+31</td>\n",
       "      <td>2</td>\n",
       "    </tr>\n",
       "    <tr>\n",
       "      <th>16</th>\n",
       "      <td>17</td>\n",
       "      <td>29</td>\n",
       "      <td>29</td>\n",
       "      <td>78.1</td>\n",
       "      <td>1.000000e+31</td>\n",
       "      <td>2</td>\n",
       "    </tr>\n",
       "    <tr>\n",
       "      <th>17</th>\n",
       "      <td>18</td>\n",
       "      <td>28</td>\n",
       "      <td>51</td>\n",
       "      <td>292.1</td>\n",
       "      <td>1.000000e+31</td>\n",
       "      <td>2</td>\n",
       "    </tr>\n",
       "    <tr>\n",
       "      <th>18</th>\n",
       "      <td>19</td>\n",
       "      <td>31</td>\n",
       "      <td>68</td>\n",
       "      <td>895.2</td>\n",
       "      <td>1.000000e+31</td>\n",
       "      <td>2</td>\n",
       "    </tr>\n",
       "    <tr>\n",
       "      <th>19</th>\n",
       "      <td>20</td>\n",
       "      <td>28</td>\n",
       "      <td>88</td>\n",
       "      <td>702.6</td>\n",
       "      <td>1.000000e+31</td>\n",
       "      <td>2</td>\n",
       "    </tr>\n",
       "    <tr>\n",
       "      <th>20</th>\n",
       "      <td>21</td>\n",
       "      <td>30</td>\n",
       "      <td>110</td>\n",
       "      <td>490.3</td>\n",
       "      <td>1.000000e+31</td>\n",
       "      <td>2</td>\n",
       "    </tr>\n",
       "    <tr>\n",
       "      <th>21</th>\n",
       "      <td>22</td>\n",
       "      <td>28</td>\n",
       "      <td>130</td>\n",
       "      <td>136.1</td>\n",
       "      <td>1.000000e+31</td>\n",
       "      <td>2</td>\n",
       "    </tr>\n",
       "    <tr>\n",
       "      <th>22</th>\n",
       "      <td>23</td>\n",
       "      <td>28</td>\n",
       "      <td>150</td>\n",
       "      <td>335.0</td>\n",
       "      <td>1.000000e+31</td>\n",
       "      <td>2</td>\n",
       "    </tr>\n",
       "    <tr>\n",
       "      <th>23</th>\n",
       "      <td>24</td>\n",
       "      <td>30</td>\n",
       "      <td>171</td>\n",
       "      <td>277.0</td>\n",
       "      <td>1.000000e+31</td>\n",
       "      <td>2</td>\n",
       "    </tr>\n",
       "    <tr>\n",
       "      <th>24</th>\n",
       "      <td>25</td>\n",
       "      <td>28</td>\n",
       "      <td>190</td>\n",
       "      <td>206.1</td>\n",
       "      <td>1.000000e+31</td>\n",
       "      <td>2</td>\n",
       "    </tr>\n",
       "    <tr>\n",
       "      <th>25</th>\n",
       "      <td>26</td>\n",
       "      <td>31</td>\n",
       "      <td>209</td>\n",
       "      <td>24.5</td>\n",
       "      <td>1.000000e+31</td>\n",
       "      <td>2</td>\n",
       "    </tr>\n",
       "    <tr>\n",
       "      <th>26</th>\n",
       "      <td>27</td>\n",
       "      <td>28</td>\n",
       "      <td>229</td>\n",
       "      <td>198.1</td>\n",
       "      <td>1.000000e+31</td>\n",
       "      <td>2</td>\n",
       "    </tr>\n",
       "    <tr>\n",
       "      <th>27</th>\n",
       "      <td>28</td>\n",
       "      <td>30</td>\n",
       "      <td>250</td>\n",
       "      <td>60.3</td>\n",
       "      <td>1.000000e+31</td>\n",
       "      <td>2</td>\n",
       "    </tr>\n",
       "    <tr>\n",
       "      <th>28</th>\n",
       "      <td>29</td>\n",
       "      <td>31</td>\n",
       "      <td>269</td>\n",
       "      <td>312.6</td>\n",
       "      <td>1.000000e+31</td>\n",
       "      <td>2</td>\n",
       "    </tr>\n",
       "    <tr>\n",
       "      <th>29</th>\n",
       "      <td>30</td>\n",
       "      <td>31</td>\n",
       "      <td>289</td>\n",
       "      <td>240.9</td>\n",
       "      <td>1.000000e+31</td>\n",
       "      <td>2</td>\n",
       "    </tr>\n",
       "    <tr>\n",
       "      <th>...</th>\n",
       "      <td>...</td>\n",
       "      <td>...</td>\n",
       "      <td>...</td>\n",
       "      <td>...</td>\n",
       "      <td>...</td>\n",
       "      <td>...</td>\n",
       "    </tr>\n",
       "    <tr>\n",
       "      <th>440</th>\n",
       "      <td>441</td>\n",
       "      <td>86</td>\n",
       "      <td>169</td>\n",
       "      <td>317.4</td>\n",
       "      <td>7.617000e+02</td>\n",
       "      <td>2</td>\n",
       "    </tr>\n",
       "    <tr>\n",
       "      <th>441</th>\n",
       "      <td>442</td>\n",
       "      <td>73</td>\n",
       "      <td>199</td>\n",
       "      <td>470.7</td>\n",
       "      <td>5.190100e+03</td>\n",
       "      <td>2</td>\n",
       "    </tr>\n",
       "    <tr>\n",
       "      <th>442</th>\n",
       "      <td>443</td>\n",
       "      <td>76</td>\n",
       "      <td>51</td>\n",
       "      <td>498.7</td>\n",
       "      <td>1.018000e+02</td>\n",
       "      <td>2</td>\n",
       "    </tr>\n",
       "    <tr>\n",
       "      <th>443</th>\n",
       "      <td>444</td>\n",
       "      <td>94</td>\n",
       "      <td>61</td>\n",
       "      <td>778.7</td>\n",
       "      <td>1.354000e+03</td>\n",
       "      <td>2</td>\n",
       "    </tr>\n",
       "    <tr>\n",
       "      <th>444</th>\n",
       "      <td>445</td>\n",
       "      <td>85</td>\n",
       "      <td>60</td>\n",
       "      <td>523.3</td>\n",
       "      <td>1.175000e+02</td>\n",
       "      <td>2</td>\n",
       "    </tr>\n",
       "    <tr>\n",
       "      <th>445</th>\n",
       "      <td>446</td>\n",
       "      <td>104</td>\n",
       "      <td>38</td>\n",
       "      <td>617.1</td>\n",
       "      <td>2.002000e+02</td>\n",
       "      <td>2</td>\n",
       "    </tr>\n",
       "    <tr>\n",
       "      <th>446</th>\n",
       "      <td>447</td>\n",
       "      <td>93</td>\n",
       "      <td>41</td>\n",
       "      <td>395.5</td>\n",
       "      <td>2.840000e+01</td>\n",
       "      <td>2</td>\n",
       "    </tr>\n",
       "    <tr>\n",
       "      <th>447</th>\n",
       "      <td>448</td>\n",
       "      <td>75</td>\n",
       "      <td>90</td>\n",
       "      <td>518.9</td>\n",
       "      <td>1.130000e+02</td>\n",
       "      <td>2</td>\n",
       "    </tr>\n",
       "    <tr>\n",
       "      <th>448</th>\n",
       "      <td>449</td>\n",
       "      <td>94</td>\n",
       "      <td>101</td>\n",
       "      <td>383.7</td>\n",
       "      <td>1.290000e+01</td>\n",
       "      <td>2</td>\n",
       "    </tr>\n",
       "    <tr>\n",
       "      <th>449</th>\n",
       "      <td>450</td>\n",
       "      <td>85</td>\n",
       "      <td>100</td>\n",
       "      <td>704.1</td>\n",
       "      <td>1.260000e+02</td>\n",
       "      <td>2</td>\n",
       "    </tr>\n",
       "    <tr>\n",
       "      <th>450</th>\n",
       "      <td>451</td>\n",
       "      <td>104</td>\n",
       "      <td>109</td>\n",
       "      <td>562.3</td>\n",
       "      <td>9.086000e+02</td>\n",
       "      <td>2</td>\n",
       "    </tr>\n",
       "    <tr>\n",
       "      <th>451</th>\n",
       "      <td>452</td>\n",
       "      <td>75</td>\n",
       "      <td>110</td>\n",
       "      <td>655.3</td>\n",
       "      <td>3.490000e+02</td>\n",
       "      <td>2</td>\n",
       "    </tr>\n",
       "    <tr>\n",
       "      <th>452</th>\n",
       "      <td>453</td>\n",
       "      <td>95</td>\n",
       "      <td>121</td>\n",
       "      <td>823.6</td>\n",
       "      <td>5.484000e+02</td>\n",
       "      <td>2</td>\n",
       "    </tr>\n",
       "    <tr>\n",
       "      <th>453</th>\n",
       "      <td>454</td>\n",
       "      <td>83</td>\n",
       "      <td>119</td>\n",
       "      <td>847.7</td>\n",
       "      <td>7.014000e+02</td>\n",
       "      <td>2</td>\n",
       "    </tr>\n",
       "    <tr>\n",
       "      <th>454</th>\n",
       "      <td>455</td>\n",
       "      <td>94</td>\n",
       "      <td>140</td>\n",
       "      <td>607.5</td>\n",
       "      <td>7.232000e+02</td>\n",
       "      <td>2</td>\n",
       "    </tr>\n",
       "    <tr>\n",
       "      <th>455</th>\n",
       "      <td>456</td>\n",
       "      <td>103</td>\n",
       "      <td>139</td>\n",
       "      <td>491.2</td>\n",
       "      <td>5.653000e+02</td>\n",
       "      <td>2</td>\n",
       "    </tr>\n",
       "    <tr>\n",
       "      <th>456</th>\n",
       "      <td>457</td>\n",
       "      <td>114</td>\n",
       "      <td>120</td>\n",
       "      <td>319.5</td>\n",
       "      <td>1.542000e+02</td>\n",
       "      <td>2</td>\n",
       "    </tr>\n",
       "    <tr>\n",
       "      <th>457</th>\n",
       "      <td>458</td>\n",
       "      <td>104</td>\n",
       "      <td>118</td>\n",
       "      <td>594.0</td>\n",
       "      <td>2.892000e+02</td>\n",
       "      <td>2</td>\n",
       "    </tr>\n",
       "    <tr>\n",
       "      <th>458</th>\n",
       "      <td>459</td>\n",
       "      <td>196</td>\n",
       "      <td>91</td>\n",
       "      <td>433.5</td>\n",
       "      <td>2.541000e+02</td>\n",
       "      <td>2</td>\n",
       "    </tr>\n",
       "    <tr>\n",
       "      <th>459</th>\n",
       "      <td>460</td>\n",
       "      <td>215</td>\n",
       "      <td>101</td>\n",
       "      <td>209.6</td>\n",
       "      <td>4.000000e+00</td>\n",
       "      <td>2</td>\n",
       "    </tr>\n",
       "    <tr>\n",
       "      <th>460</th>\n",
       "      <td>461</td>\n",
       "      <td>204</td>\n",
       "      <td>101</td>\n",
       "      <td>533.8</td>\n",
       "      <td>1.273000e+02</td>\n",
       "      <td>2</td>\n",
       "    </tr>\n",
       "    <tr>\n",
       "      <th>461</th>\n",
       "      <td>462</td>\n",
       "      <td>196</td>\n",
       "      <td>101</td>\n",
       "      <td>592.4</td>\n",
       "      <td>4.194000e+02</td>\n",
       "      <td>2</td>\n",
       "    </tr>\n",
       "    <tr>\n",
       "      <th>462</th>\n",
       "      <td>463</td>\n",
       "      <td>195</td>\n",
       "      <td>149</td>\n",
       "      <td>478.7</td>\n",
       "      <td>1.419000e+02</td>\n",
       "      <td>2</td>\n",
       "    </tr>\n",
       "    <tr>\n",
       "      <th>463</th>\n",
       "      <td>464</td>\n",
       "      <td>216</td>\n",
       "      <td>11</td>\n",
       "      <td>660.2</td>\n",
       "      <td>1.424800e+03</td>\n",
       "      <td>2</td>\n",
       "    </tr>\n",
       "    <tr>\n",
       "      <th>464</th>\n",
       "      <td>465</td>\n",
       "      <td>225</td>\n",
       "      <td>19</td>\n",
       "      <td>832.2</td>\n",
       "      <td>5.122000e+02</td>\n",
       "      <td>2</td>\n",
       "    </tr>\n",
       "    <tr>\n",
       "      <th>465</th>\n",
       "      <td>466</td>\n",
       "      <td>214</td>\n",
       "      <td>19</td>\n",
       "      <td>242.5</td>\n",
       "      <td>1.560000e+01</td>\n",
       "      <td>2</td>\n",
       "    </tr>\n",
       "    <tr>\n",
       "      <th>466</th>\n",
       "      <td>467</td>\n",
       "      <td>245</td>\n",
       "      <td>231</td>\n",
       "      <td>161.2</td>\n",
       "      <td>2.610000e+01</td>\n",
       "      <td>2</td>\n",
       "    </tr>\n",
       "    <tr>\n",
       "      <th>467</th>\n",
       "      <td>468</td>\n",
       "      <td>233</td>\n",
       "      <td>220</td>\n",
       "      <td>626.0</td>\n",
       "      <td>9.597000e+02</td>\n",
       "      <td>2</td>\n",
       "    </tr>\n",
       "    <tr>\n",
       "      <th>468</th>\n",
       "      <td>469</td>\n",
       "      <td>226</td>\n",
       "      <td>221</td>\n",
       "      <td>800.1</td>\n",
       "      <td>1.681500e+03</td>\n",
       "      <td>2</td>\n",
       "    </tr>\n",
       "    <tr>\n",
       "      <th>469</th>\n",
       "      <td>470</td>\n",
       "      <td>213</td>\n",
       "      <td>218</td>\n",
       "      <td>482.6</td>\n",
       "      <td>4.762000e+02</td>\n",
       "      <td>2</td>\n",
       "    </tr>\n",
       "  </tbody>\n",
       "</table>\n",
       "<p>470 rows × 6 columns</p>\n",
       "</div>"
      ],
      "text/plain": [
       "       I    X    Y      V             U  T\n",
       "0      1   11    8    0.0  1.000000e+31  2\n",
       "1      2    8   30    0.0  1.000000e+31  2\n",
       "2      3    9   48  224.4  1.000000e+31  2\n",
       "3      4    8   69  434.4  1.000000e+31  2\n",
       "4      5    9   90  412.1  1.000000e+31  2\n",
       "5      6   10  110  587.2  1.000000e+31  2\n",
       "6      7    9  129  192.3  1.000000e+31  2\n",
       "7      8   11  150   31.3  1.000000e+31  2\n",
       "8      9   10  170  388.5  1.000000e+31  2\n",
       "9     10    8  188  174.6  1.000000e+31  2\n",
       "10    11    9  209  187.8  1.000000e+31  2\n",
       "11    12   10  231   82.1  1.000000e+31  1\n",
       "12    13   11  250   81.1  1.000000e+31  1\n",
       "13    14   10  269  124.3  1.000000e+31  2\n",
       "14    15    8  288  188.0  1.000000e+31  2\n",
       "15    16   31   11   28.7  1.000000e+31  2\n",
       "16    17   29   29   78.1  1.000000e+31  2\n",
       "17    18   28   51  292.1  1.000000e+31  2\n",
       "18    19   31   68  895.2  1.000000e+31  2\n",
       "19    20   28   88  702.6  1.000000e+31  2\n",
       "20    21   30  110  490.3  1.000000e+31  2\n",
       "21    22   28  130  136.1  1.000000e+31  2\n",
       "22    23   28  150  335.0  1.000000e+31  2\n",
       "23    24   30  171  277.0  1.000000e+31  2\n",
       "24    25   28  190  206.1  1.000000e+31  2\n",
       "25    26   31  209   24.5  1.000000e+31  2\n",
       "26    27   28  229  198.1  1.000000e+31  2\n",
       "27    28   30  250   60.3  1.000000e+31  2\n",
       "28    29   31  269  312.6  1.000000e+31  2\n",
       "29    30   31  289  240.9  1.000000e+31  2\n",
       "..   ...  ...  ...    ...           ... ..\n",
       "440  441   86  169  317.4  7.617000e+02  2\n",
       "441  442   73  199  470.7  5.190100e+03  2\n",
       "442  443   76   51  498.7  1.018000e+02  2\n",
       "443  444   94   61  778.7  1.354000e+03  2\n",
       "444  445   85   60  523.3  1.175000e+02  2\n",
       "445  446  104   38  617.1  2.002000e+02  2\n",
       "446  447   93   41  395.5  2.840000e+01  2\n",
       "447  448   75   90  518.9  1.130000e+02  2\n",
       "448  449   94  101  383.7  1.290000e+01  2\n",
       "449  450   85  100  704.1  1.260000e+02  2\n",
       "450  451  104  109  562.3  9.086000e+02  2\n",
       "451  452   75  110  655.3  3.490000e+02  2\n",
       "452  453   95  121  823.6  5.484000e+02  2\n",
       "453  454   83  119  847.7  7.014000e+02  2\n",
       "454  455   94  140  607.5  7.232000e+02  2\n",
       "455  456  103  139  491.2  5.653000e+02  2\n",
       "456  457  114  120  319.5  1.542000e+02  2\n",
       "457  458  104  118  594.0  2.892000e+02  2\n",
       "458  459  196   91  433.5  2.541000e+02  2\n",
       "459  460  215  101  209.6  4.000000e+00  2\n",
       "460  461  204  101  533.8  1.273000e+02  2\n",
       "461  462  196  101  592.4  4.194000e+02  2\n",
       "462  463  195  149  478.7  1.419000e+02  2\n",
       "463  464  216   11  660.2  1.424800e+03  2\n",
       "464  465  225   19  832.2  5.122000e+02  2\n",
       "465  466  214   19  242.5  1.560000e+01  2\n",
       "466  467  245  231  161.2  2.610000e+01  2\n",
       "467  468  233  220  626.0  9.597000e+02  2\n",
       "468  469  226  221  800.1  1.681500e+03  2\n",
       "469  470  213  218  482.6  4.762000e+02  2\n",
       "\n",
       "[470 rows x 6 columns]"
      ]
     },
     "execution_count": 7,
     "metadata": {},
     "output_type": "execute_result"
    }
   ],
   "source": [
    "sample"
   ]
  },
  {
   "cell_type": "code",
   "execution_count": 8,
   "metadata": {},
   "outputs": [
    {
     "data": {
      "text/html": [
       "<div>\n",
       "<style scoped>\n",
       "    .dataframe tbody tr th:only-of-type {\n",
       "        vertical-align: middle;\n",
       "    }\n",
       "\n",
       "    .dataframe tbody tr th {\n",
       "        vertical-align: top;\n",
       "    }\n",
       "\n",
       "    .dataframe thead th {\n",
       "        text-align: right;\n",
       "    }\n",
       "</style>\n",
       "<table border=\"1\" class=\"dataframe\">\n",
       "  <thead>\n",
       "    <tr style=\"text-align: right;\">\n",
       "      <th></th>\n",
       "      <th>I</th>\n",
       "      <th>X</th>\n",
       "      <th>Y</th>\n",
       "      <th>V</th>\n",
       "      <th>U</th>\n",
       "      <th>T</th>\n",
       "    </tr>\n",
       "  </thead>\n",
       "  <tbody>\n",
       "    <tr>\n",
       "      <th>count</th>\n",
       "      <td>470.000000</td>\n",
       "      <td>470.000000</td>\n",
       "      <td>470.000000</td>\n",
       "      <td>470.000000</td>\n",
       "      <td>4.700000e+02</td>\n",
       "      <td>470.000000</td>\n",
       "    </tr>\n",
       "    <tr>\n",
       "      <th>mean</th>\n",
       "      <td>235.500000</td>\n",
       "      <td>111.089362</td>\n",
       "      <td>141.221277</td>\n",
       "      <td>435.298723</td>\n",
       "      <td>4.148936e+30</td>\n",
       "      <td>1.904255</td>\n",
       "    </tr>\n",
       "    <tr>\n",
       "      <th>std</th>\n",
       "      <td>135.821574</td>\n",
       "      <td>70.894682</td>\n",
       "      <td>77.968954</td>\n",
       "      <td>299.882302</td>\n",
       "      <td>4.932287e+30</td>\n",
       "      <td>0.294554</td>\n",
       "    </tr>\n",
       "    <tr>\n",
       "      <th>min</th>\n",
       "      <td>1.000000</td>\n",
       "      <td>8.000000</td>\n",
       "      <td>8.000000</td>\n",
       "      <td>0.000000</td>\n",
       "      <td>0.000000e+00</td>\n",
       "      <td>1.000000</td>\n",
       "    </tr>\n",
       "    <tr>\n",
       "      <th>25%</th>\n",
       "      <td>118.250000</td>\n",
       "      <td>51.000000</td>\n",
       "      <td>80.000000</td>\n",
       "      <td>184.600000</td>\n",
       "      <td>2.302000e+02</td>\n",
       "      <td>2.000000</td>\n",
       "    </tr>\n",
       "    <tr>\n",
       "      <th>50%</th>\n",
       "      <td>235.500000</td>\n",
       "      <td>89.000000</td>\n",
       "      <td>139.500000</td>\n",
       "      <td>424.000000</td>\n",
       "      <td>1.382250e+03</td>\n",
       "      <td>2.000000</td>\n",
       "    </tr>\n",
       "    <tr>\n",
       "      <th>75%</th>\n",
       "      <td>352.750000</td>\n",
       "      <td>170.000000</td>\n",
       "      <td>208.000000</td>\n",
       "      <td>640.850000</td>\n",
       "      <td>1.000000e+31</td>\n",
       "      <td>2.000000</td>\n",
       "    </tr>\n",
       "    <tr>\n",
       "      <th>max</th>\n",
       "      <td>470.000000</td>\n",
       "      <td>251.000000</td>\n",
       "      <td>291.000000</td>\n",
       "      <td>1528.100000</td>\n",
       "      <td>1.000000e+31</td>\n",
       "      <td>2.000000</td>\n",
       "    </tr>\n",
       "  </tbody>\n",
       "</table>\n",
       "</div>"
      ],
      "text/plain": [
       "                I           X           Y            V             U  \\\n",
       "count  470.000000  470.000000  470.000000   470.000000  4.700000e+02   \n",
       "mean   235.500000  111.089362  141.221277   435.298723  4.148936e+30   \n",
       "std    135.821574   70.894682   77.968954   299.882302  4.932287e+30   \n",
       "min      1.000000    8.000000    8.000000     0.000000  0.000000e+00   \n",
       "25%    118.250000   51.000000   80.000000   184.600000  2.302000e+02   \n",
       "50%    235.500000   89.000000  139.500000   424.000000  1.382250e+03   \n",
       "75%    352.750000  170.000000  208.000000   640.850000  1.000000e+31   \n",
       "max    470.000000  251.000000  291.000000  1528.100000  1.000000e+31   \n",
       "\n",
       "                T  \n",
       "count  470.000000  \n",
       "mean     1.904255  \n",
       "std      0.294554  \n",
       "min      1.000000  \n",
       "25%      2.000000  \n",
       "50%      2.000000  \n",
       "75%      2.000000  \n",
       "max      2.000000  "
      ]
     },
     "execution_count": 8,
     "metadata": {},
     "output_type": "execute_result"
    }
   ],
   "source": [
    "sample.describe()"
   ]
  },
  {
   "cell_type": "code",
   "execution_count": 9,
   "metadata": {},
   "outputs": [
    {
     "data": {
      "text/html": [
       "<div>\n",
       "<style scoped>\n",
       "    .dataframe tbody tr th:only-of-type {\n",
       "        vertical-align: middle;\n",
       "    }\n",
       "\n",
       "    .dataframe tbody tr th {\n",
       "        vertical-align: top;\n",
       "    }\n",
       "\n",
       "    .dataframe thead th {\n",
       "        text-align: right;\n",
       "    }\n",
       "</style>\n",
       "<table border=\"1\" class=\"dataframe\">\n",
       "  <thead>\n",
       "    <tr style=\"text-align: right;\">\n",
       "      <th></th>\n",
       "      <th>X</th>\n",
       "      <th>Y</th>\n",
       "      <th>U</th>\n",
       "      <th>V</th>\n",
       "    </tr>\n",
       "  </thead>\n",
       "  <tbody>\n",
       "    <tr>\n",
       "      <th>count</th>\n",
       "      <td>100.000000</td>\n",
       "      <td>100.000000</td>\n",
       "      <td>100.000000</td>\n",
       "      <td>100.000000</td>\n",
       "    </tr>\n",
       "    <tr>\n",
       "      <th>mean</th>\n",
       "      <td>15.500000</td>\n",
       "      <td>245.500000</td>\n",
       "      <td>19.092960</td>\n",
       "      <td>97.558800</td>\n",
       "    </tr>\n",
       "    <tr>\n",
       "      <th>std</th>\n",
       "      <td>2.886751</td>\n",
       "      <td>2.886751</td>\n",
       "      <td>9.884783</td>\n",
       "      <td>26.428302</td>\n",
       "    </tr>\n",
       "    <tr>\n",
       "      <th>min</th>\n",
       "      <td>11.000000</td>\n",
       "      <td>241.000000</td>\n",
       "      <td>0.007000</td>\n",
       "      <td>0.000000</td>\n",
       "    </tr>\n",
       "    <tr>\n",
       "      <th>25%</th>\n",
       "      <td>13.000000</td>\n",
       "      <td>243.000000</td>\n",
       "      <td>14.227750</td>\n",
       "      <td>81.457500</td>\n",
       "    </tr>\n",
       "    <tr>\n",
       "      <th>50%</th>\n",
       "      <td>15.500000</td>\n",
       "      <td>245.500000</td>\n",
       "      <td>17.619000</td>\n",
       "      <td>100.265000</td>\n",
       "    </tr>\n",
       "    <tr>\n",
       "      <th>75%</th>\n",
       "      <td>18.000000</td>\n",
       "      <td>248.000000</td>\n",
       "      <td>24.597500</td>\n",
       "      <td>116.007500</td>\n",
       "    </tr>\n",
       "    <tr>\n",
       "      <th>max</th>\n",
       "      <td>20.000000</td>\n",
       "      <td>250.000000</td>\n",
       "      <td>55.476000</td>\n",
       "      <td>145.180000</td>\n",
       "    </tr>\n",
       "  </tbody>\n",
       "</table>\n",
       "</div>"
      ],
      "text/plain": [
       "                X           Y           U           V\n",
       "count  100.000000  100.000000  100.000000  100.000000\n",
       "mean    15.500000  245.500000   19.092960   97.558800\n",
       "std      2.886751    2.886751    9.884783   26.428302\n",
       "min     11.000000  241.000000    0.007000    0.000000\n",
       "25%     13.000000  243.000000   14.227750   81.457500\n",
       "50%     15.500000  245.500000   17.619000  100.265000\n",
       "75%     18.000000  248.000000   24.597500  116.007500\n",
       "max     20.000000  250.000000   55.476000  145.180000"
      ]
     },
     "execution_count": 9,
     "metadata": {},
     "output_type": "execute_result"
    }
   ],
   "source": [
    "testing = exhaustive[(exhaustive['X'] >= 11) & (exhaustive['X'] <= 20) & (exhaustive['Y'] >= 241) & (exhaustive['Y'] <= 250)]\n",
    "testing.describe()"
   ]
  },
  {
   "cell_type": "code",
   "execution_count": 10,
   "metadata": {},
   "outputs": [],
   "source": [
    "test_u = []\n",
    "test_v = []\n",
    "for i in range(9, -1, -1):\n",
    "    record = testing[10*i:10*i+10]\n",
    "    test_u.append(record[\"U\"])\n",
    "    test_v.append(record[\"V\"])"
   ]
  },
  {
   "cell_type": "code",
   "execution_count": 11,
   "metadata": {},
   "outputs": [
    {
     "data": {
      "text/plain": [
       "Text(33.0, 0.5, 'V values')"
      ]
     },
     "execution_count": 11,
     "metadata": {},
     "output_type": "execute_result"
    },
    {
     "data": {
      "image/png": "[encoded data removed]",
      "text/plain": [
       "<Figure size 432x288 with 2 Axes>"
      ]
     },
     "metadata": {
      "needs_background": "light"
     },
     "output_type": "display_data"
    }
   ],
   "source": [
    "sns.heatmap(test_v)\n",
    "plt.xlabel('V values')\n",
    "plt.ylabel('V values')"
   ]
  },
  {
   "cell_type": "code",
   "execution_count": 12,
   "metadata": {},
   "outputs": [
    {
     "data": {
      "text/plain": [
       "Text(33.0, 0.5, 'U values')"
      ]
     },
     "execution_count": 12,
     "metadata": {},
     "output_type": "execute_result"
    },
    {
     "data": {
      "image/png": "[encoded data removed]",
      "text/plain": [
       "<Figure size 432x288 with 2 Axes>"
      ]
     },
     "metadata": {
      "needs_background": "light"
     },
     "output_type": "display_data"
    }
   ],
   "source": [
    "sns.heatmap(test_u)\n",
    "plt.xlabel('U values')\n",
    "plt.ylabel('U values')"
   ]
  },
  {
   "cell_type": "code",
   "execution_count": 13,
   "metadata": {},
   "outputs": [
    {
     "data": {
      "text/plain": [
       "Text(0.5, 0, 'Frequency Distribution of U')"
      ]
     },
     "execution_count": 13,
     "metadata": {},
     "output_type": "execute_result"
    },
    {
     "data": {
      "image/png": "[encoded data removed]",
      "text/plain": [
       "<Figure size 432x288 with 1 Axes>"
      ]
     },
     "metadata": {
      "needs_background": "light"
     },
     "output_type": "display_data"
    }
   ],
   "source": [
    "testing[\"U\"].plot.hist(bins=20)\n",
    "plt.xlabel('Frequency Distribution of U')"
   ]
  },
  {
   "cell_type": "code",
   "execution_count": 14,
   "metadata": {},
   "outputs": [
    {
     "data": {
      "text/plain": [
       "Text(0.5, 0, 'Frequency Distribution of V')"
      ]
     },
     "execution_count": 14,
     "metadata": {},
     "output_type": "execute_result"
    },
    {
     "data": {
      "image/png": "[encoded data removed]",
      "text/plain": [
       "<Figure size 432x288 with 1 Axes>"
      ]
     },
     "metadata": {
      "needs_background": "light"
     },
     "output_type": "display_data"
    }
   ],
   "source": [
    "testing[\"V\"].plot.hist(bins=20)\n",
    "plt.xlabel('Frequency Distribution of V')"
   ]
  },
  {
   "cell_type": "code",
   "execution_count": 15,
   "metadata": {},
   "outputs": [
    {
     "data": {
      "text/plain": [
       "Text(0, 0.5, 'Cumulative Frequency(%)')"
      ]
     },
     "execution_count": 15,
     "metadata": {},
     "output_type": "execute_result"
    },
    {
     "data": {
      "image/png": "[encoded data removed]",
      "text/plain": [
       "<Figure size 432x288 with 1 Axes>"
      ]
     },
     "metadata": {
      "needs_background": "light"
     },
     "output_type": "display_data"
    }
   ],
   "source": [
    "testing[\"U\"].plot.hist(bins=20, cumulative=True)\n",
    "plt.xlabel('Cumulative Histogram of U')\n",
    "plt.ylabel('Cumulative Frequency(%)')"
   ]
  },
  {
   "cell_type": "code",
   "execution_count": 16,
   "metadata": {},
   "outputs": [
    {
     "data": {
      "text/plain": [
       "Text(0, 0.5, 'Cumulative Frequency(%)')"
      ]
     },
     "execution_count": 16,
     "metadata": {},
     "output_type": "execute_result"
    },
    {
     "data": {
      "image/png": "[encoded data removed]",
      "text/plain": [
       "<Figure size 432x288 with 1 Axes>"
      ]
     },
     "metadata": {
      "needs_background": "light"
     },
     "output_type": "display_data"
    }
   ],
   "source": [
    "testing[\"V\"].plot.hist(bins=20, cumulative=True)\n",
    "plt.xlabel('Cumulative Histogram of V')\n",
    "plt.ylabel('Cumulative Frequency(%)')"
   ]
  },
  {
   "cell_type": "code",
   "execution_count": 17,
   "metadata": {},
   "outputs": [
    {
     "data": {
      "text/plain": [
       "Text(0, 0.5, 'Cumulative Frequency(%)')"
      ]
     },
     "execution_count": 17,
     "metadata": {},
     "output_type": "execute_result"
    },
    {
     "data": {
      "image/png": "[encoded data removed]",
      "text/plain": [
       "<Figure size 432x288 with 1 Axes>"
      ]
     },
     "metadata": {
      "needs_background": "light"
     },
     "output_type": "display_data"
    }
   ],
   "source": [
    "values, base = np.histogram(testing[\"V\"], bins=40)\n",
    "cumulative = np.cumsum(values)\n",
    "plt.plot(base[:-1], cumulative, c='blue')\n",
    "plt.xlabel('V ppm')\n",
    "plt.ylabel('Cumulative Frequency(%)')\n",
    "#mean = np.mean(testing[\"V\"])\n",
    "#variance = np.std(testing[\"V\"])\n",
    "#list(map(lambda x: (1/(math.sqrt(2*math.pi)*variance))*(math.pow(math.e, -0.5*math.pow((x - mean)/variance, 2))), base[:-1]))"
   ]
  },
  {
   "cell_type": "code",
   "execution_count": 18,
   "metadata": {},
   "outputs": [
    {
     "data": {
      "text/plain": [
       "Text(0, 0.5, 'Cumulative Frequency(%)')"
      ]
     },
     "execution_count": 18,
     "metadata": {},
     "output_type": "execute_result"
    },
    {
     "data": {
      "image/png": "[encoded data removed]",
      "text/plain": [
       "<Figure size 432x288 with 1 Axes>"
      ]
     },
     "metadata": {
      "needs_background": "light"
     },
     "output_type": "display_data"
    }
   ],
   "source": [
    "log_testing = []\n",
    "for i in testing[\"V\"]:\n",
    "    if(i != 0):\n",
    "        log_testing.append(math.log(i))\n",
    "    else:\n",
    "        log_testing.append(i)\n",
    "log_testing\n",
    "values, base = np.histogram(log_testing, bins=40)\n",
    "cumulative = np.cumsum(values)\n",
    "plt.plot(base[:-1], cumulative, c='blue')\n",
    "plt.xlabel('log V')\n",
    "plt.ylabel('Cumulative Frequency(%)')"
   ]
  },
  {
   "cell_type": "code",
   "execution_count": 19,
   "metadata": {},
   "outputs": [
    {
     "name": "stdout",
     "output_type": "stream",
     "text": [
      "MEAN:  97.55879999999999\n",
      "FIRST QUARTILE:  81.45750000000001\n",
      "MEDIAN:  100.265\n",
      "LAST QUARTILE:  116.0075\n",
      "VARIANCE:  691.4705825599999\n",
      "STANDARD DEVIATION:  26.29582823491209\n",
      "INTERQUARTILE RANGE:  34.54999999999998\n",
      "COEFFICIENT OF SKEWNESS:  -0.7791427658905636\n",
      "COEFFICIENT OF VARIANCE:  0.26953825011082644\n"
     ]
    }
   ],
   "source": [
    "print(\"MEAN: \", np.mean(testing[\"V\"]))\n",
    "print(\"FIRST QUARTILE: \", np.percentile(testing[\"V\"], 25))\n",
    "print(\"MEDIAN: \" , np.percentile(testing[\"V\"], 50))\n",
    "print(\"LAST QUARTILE: \", np.percentile(testing[\"V\"], 75))\n",
    "print(\"VARIANCE: \", np.var(testing[\"V\"]))\n",
    "print(\"STANDARD DEVIATION: \", np.std(testing[\"V------\"]))\n",
    "print(\"INTERQUARTILE RANGE: \", np.percentile(testing[\"V\"], 75) - np.percentile(testing[\"V\"], 25))\n",
    "print(\"COEFFICIENT OF SKEWNESS: \", scipy.stats.skew(testing[\"V\"]))\n",
    "print(\"COEFFICIENT OF VARIANCE: \", scipy.stats.variation(testing[\"V\"]))\n"
   ]
  },
  {
   "cell_type": "code",
   "execution_count": 20,
   "metadata": {},
   "outputs": [
    {
     "name": "stdout",
     "output_type": "stream",
     "text": [
      "MEAN:  19.092960000000005\n",
      "FIRST QUARTILE:  14.22775\n",
      "MEDIAN:  17.619\n",
      "LAST QUARTILE:  24.597500000000004\n",
      "VARIANCE:  96.73183843839999\n",
      "STANDARD DEVIATION:  9.835234539064128\n",
      "INTERQUARTILE RANGE:  10.369750000000003\n",
      "COEFFICIENT OF SKEWNESS:  0.5664849736725455\n",
      "COEFFICIENT OF VARIANCE:  0.5151236130523568\n"
     ]
    }
   ],
   "source": [
    "print(\"MEAN: \", np.mean(testing[\"U\"]))\n",
    "print(\"FIRST QUARTILE: \", np.percentile(testing[\"U\"], 25))\n",
    "print(\"MEDIAN: \" , np.percentile(testing[\"U\"], 50))\n",
    "print(\"LAST QUARTILE: \", np.percentile(testing[\"U\"], 75))\n",
    "print(\"VARIANCE: \", np.var(testing[\"U\"]))\n",
    "print(\"STANDARD DEVIATION: \", np.std(testing[\"U\"]))\n",
    "print(\"INTERQUARTILE RANGE: \", np.percentile(testing[\"U\"], 75) - np.percentile(testing[\"U\"], 25))\n",
    "print(\"COEFFICIENT OF SKEWNESS: \", scipy.stats.skew(testing[\"U\"]))\n",
    "print(\"COEFFICIENT OF VARIANCE: \", scipy.stats.variation(testing[\"U\"]))\n"
   ]
  },
  {
   "cell_type": "code",
   "execution_count": 21,
   "metadata": {},
   "outputs": [
    {
     "data": {
      "image/png": "[encoded data removed]",
      "text/plain": [
       "<Figure size 432x288 with 1 Axes>"
      ]
     },
     "metadata": {
      "needs_background": "light"
     },
     "output_type": "display_data"
    }
   ],
   "source": [
    "v, x = scipy.stats.probplot(testing[\"V\"], dist=\"uniform\", plot=pylab)\n",
    "pylab.show()"
   ]
  },
  {
   "cell_type": "code",
   "execution_count": 22,
   "metadata": {},
   "outputs": [
    {
     "data": {
      "image/png": "[encoded data removed]",
      "text/plain": [
       "<Figure size 432x288 with 1 Axes>"
      ]
     },
     "metadata": {
      "needs_background": "light"
     },
     "output_type": "display_data"
    }
   ],
   "source": [
    "u, x = scipy.stats.probplot(testing[\"U\"], dist=\"uniform\", plot=pylab)\n",
    "pylab.show()"
   ]
  },
  {
   "cell_type": "code",
   "execution_count": 23,
   "metadata": {},
   "outputs": [
    {
     "data": {
      "text/plain": [
       "Text(0, 0.5, 'U Quantiles')"
      ]
     },
     "execution_count": 23,
     "metadata": {},
     "output_type": "execute_result"
    },
    {
     "data": {
      "image/png": "[encoded data removed]",
      "text/plain": [
       "<Figure size 432x288 with 1 Axes>"
      ]
     },
     "metadata": {
      "needs_background": "light"
     },
     "output_type": "display_data"
    }
   ],
   "source": [
    "plt.plot(v[1], u[1], 'ro')\n",
    "plt.xlabel('V Quantiles')\n",
    "plt.ylabel('U Quantiles')"
   ]
  },
  {
   "cell_type": "code",
   "execution_count": 24,
   "metadata": {},
   "outputs": [
    {
     "data": {
      "text/plain": [
       "Text(0, 0.5, 'U ppm')"
      ]
     },
     "execution_count": 24,
     "metadata": {},
     "output_type": "execute_result"
    },
    {
     "data": {
      "image/png": "[encoded data removed]",
      "text/plain": [
       "<Figure size 432x288 with 1 Axes>"
      ]
     },
     "metadata": {
      "needs_background": "light"
     },
     "output_type": "display_data"
    }
   ],
   "source": [
    "plt.scatter(testing[\"V\"], testing[\"U\"])\n",
    "plt.xlabel(\"V ppm\")\n",
    "plt.ylabel(\"U ppm\")"
   ]
  },
  {
   "cell_type": "code",
   "execution_count": 25,
   "metadata": {},
   "outputs": [
    {
     "name": "stdout",
     "output_type": "stream",
     "text": [
      "CORRELATION COEFFICIENT:  0.8377433020665386\n",
      "RANK CORRELATION COEFFICIENT:  0.8550066307182479\n"
     ]
    }
   ],
   "source": [
    "print(\"CORRELATION COEFFICIENT: \", np.corrcoef(x=testing[\"U\"], y = testing[\"V\"])[0][1])\n",
    "print(\"RANK CORRELATION COEFFICIENT: \", scipy.stats.spearmanr(testing[\"U\"], testing[\"V\"])[0])\n"
   ]
  },
  {
   "cell_type": "code",
   "execution_count": 26,
   "metadata": {},
   "outputs": [],
   "source": [
    "a = np.corrcoef(x=testing[\"U\"], y = testing[\"V\"])[0][1] * np.std(testing[\"V\"])/np.std(testing[\"U\"])\n",
    "b = np.mean(testing[\"V\"]) - a*np.mean(testing[\"U\"])"
   ]
  },
  {
   "cell_type": "code",
   "execution_count": 27,
   "metadata": {},
   "outputs": [
    {
     "data": {
      "text/plain": [
       "Text(0, 0.5, 'U ppm')"
      ]
     },
     "execution_count": 27,
     "metadata": {},
     "output_type": "execute_result"
    },
    {
     "data": {
      "image/png": "[encoded data removed]",
      "text/plain": [
       "<Figure size 432x288 with 1 Axes>"
      ]
     },
     "metadata": {
      "needs_background": "light"
     },
     "output_type": "display_data"
    }
   ],
   "source": [
    "plt.scatter(testing[\"V\"], testing[\"U\"])\n",
    "plt.plot(a*testing[\"U\"]+b, testing[\"U\"])\n",
    "plt.xlabel(\"V ppm\")\n",
    "plt.ylabel(\"U ppm\")"
   ]
  },
  {
   "cell_type": "code",
   "execution_count": 28,
   "metadata": {},
   "outputs": [
    {
     "data": {
      "text/plain": [
       "Text(0, 0.5, 'V ppm')"
      ]
     },
     "execution_count": 28,
     "metadata": {},
     "output_type": "execute_result"
    },
    {
     "data": {
      "image/png": "[encoded data removed]",
      "text/plain": [
       "<Figure size 432x288 with 1 Axes>"
      ]
     },
     "metadata": {
      "needs_background": "light"
     },
     "output_type": "display_data"
    }
   ],
   "source": [
    "plt.scatter(testing[\"U\"], testing[\"V\"])\n",
    "plt.plot((testing[\"V\"]-b)/a, testing[\"V\"])\n",
    "plt.xlabel(\"U ppm\")\n",
    "plt.ylabel(\"V ppm\")"
   ]
  },
  {
   "cell_type": "code",
   "execution_count": 29,
   "metadata": {},
   "outputs": [
    {
     "data": {
      "text/plain": [
       "<matplotlib.contour.QuadContourSet at 0x7fac1bc49400>"
      ]
     },
     "execution_count": 29,
     "metadata": {},
     "output_type": "execute_result"
    },
    {
     "data": {
      "image/png": "[encoded data removed]",
      "text/plain": [
       "<Figure size 432x288 with 1 Axes>"
      ]
     },
     "metadata": {
      "needs_background": "light"
     },
     "output_type": "display_data"
    }
   ],
   "source": [
    "plt.contour(test_v)"
   ]
  },
  {
   "cell_type": "code",
   "execution_count": 30,
   "metadata": {},
   "outputs": [
    {
     "data": {
      "text/plain": [
       "<matplotlib.contour.QuadContourSet at 0x7fac1bc17128>"
      ]
     },
     "execution_count": 30,
     "metadata": {},
     "output_type": "execute_result"
    },
    {
     "data": {
      "image/png": "[encoded data removed]",
      "text/plain": [
       "<Figure size 432x288 with 1 Axes>"
      ]
     },
     "metadata": {
      "needs_background": "light"
     },
     "output_type": "display_data"
    }
   ],
   "source": [
    "plt.contour(test_u)"
   ]
  },
  {
   "cell_type": "code",
   "execution_count": 31,
   "metadata": {},
   "outputs": [
    {
     "name": "stdout",
     "output_type": "stream",
     "text": [
      "62410    22.271\n",
      "Name: U, dtype: float64\n"
     ]
    }
   ],
   "source": [
    "print(testing[(testing['X'] == 11) & (testing['Y'] == 241)]['U'])"
   ]
  },
  {
   "cell_type": "code",
   "execution_count": 32,
   "metadata": {},
   "outputs": [
    {
     "data": {
      "text/html": [
       "<div>\n",
       "<style scoped>\n",
       "    .dataframe tbody tr th:only-of-type {\n",
       "        vertical-align: middle;\n",
       "    }\n",
       "\n",
       "    .dataframe tbody tr th {\n",
       "        vertical-align: top;\n",
       "    }\n",
       "\n",
       "    .dataframe thead th {\n",
       "        text-align: right;\n",
       "    }\n",
       "</style>\n",
       "<table border=\"1\" class=\"dataframe\">\n",
       "  <thead>\n",
       "    <tr style=\"text-align: right;\">\n",
       "      <th></th>\n",
       "      <th>0</th>\n",
       "      <th>1</th>\n",
       "      <th>2</th>\n",
       "      <th>3</th>\n",
       "      <th>4</th>\n",
       "      <th>5</th>\n",
       "      <th>6</th>\n",
       "      <th>7</th>\n",
       "      <th>8</th>\n",
       "      <th>9</th>\n",
       "    </tr>\n",
       "  </thead>\n",
       "  <tbody>\n",
       "    <tr>\n",
       "      <th>0</th>\n",
       "      <td>0.000000</td>\n",
       "      <td>32.517490</td>\n",
       "      <td>41.371020</td>\n",
       "      <td>46.218134</td>\n",
       "      <td>57.375017</td>\n",
       "      <td>80.122795</td>\n",
       "      <td>101.968633</td>\n",
       "      <td>119.934791</td>\n",
       "      <td>155.916657</td>\n",
       "      <td>84.264173</td>\n",
       "    </tr>\n",
       "    <tr>\n",
       "      <th>1</th>\n",
       "      <td>79.363314</td>\n",
       "      <td>77.999740</td>\n",
       "      <td>78.186094</td>\n",
       "      <td>82.905398</td>\n",
       "      <td>92.062113</td>\n",
       "      <td>106.214477</td>\n",
       "      <td>130.094270</td>\n",
       "      <td>162.650254</td>\n",
       "      <td>223.486780</td>\n",
       "      <td>162.907916</td>\n",
       "    </tr>\n",
       "    <tr>\n",
       "      <th>2</th>\n",
       "      <td>147.960966</td>\n",
       "      <td>139.148537</td>\n",
       "      <td>122.157396</td>\n",
       "      <td>109.183139</td>\n",
       "      <td>111.437111</td>\n",
       "      <td>125.585800</td>\n",
       "      <td>136.908696</td>\n",
       "      <td>164.286731</td>\n",
       "      <td>227.692025</td>\n",
       "      <td>207.413206</td>\n",
       "    </tr>\n",
       "    <tr>\n",
       "      <th>3</th>\n",
       "      <td>146.555752</td>\n",
       "      <td>141.384079</td>\n",
       "      <td>113.783896</td>\n",
       "      <td>107.516065</td>\n",
       "      <td>101.154391</td>\n",
       "      <td>103.273644</td>\n",
       "      <td>99.364246</td>\n",
       "      <td>127.738069</td>\n",
       "      <td>170.976065</td>\n",
       "      <td>121.297901</td>\n",
       "    </tr>\n",
       "    <tr>\n",
       "      <th>4</th>\n",
       "      <td>90.332617</td>\n",
       "      <td>76.901504</td>\n",
       "      <td>68.681946</td>\n",
       "      <td>69.707795</td>\n",
       "      <td>63.498966</td>\n",
       "      <td>76.000206</td>\n",
       "      <td>86.779597</td>\n",
       "      <td>98.031088</td>\n",
       "      <td>145.658103</td>\n",
       "      <td>121.146722</td>\n",
       "    </tr>\n",
       "    <tr>\n",
       "      <th>5</th>\n",
       "      <td>66.841790</td>\n",
       "      <td>48.328403</td>\n",
       "      <td>29.411540</td>\n",
       "      <td>38.961486</td>\n",
       "      <td>47.838278</td>\n",
       "      <td>51.311990</td>\n",
       "      <td>62.018233</td>\n",
       "      <td>78.238630</td>\n",
       "      <td>126.493427</td>\n",
       "      <td>194.260874</td>\n",
       "    </tr>\n",
       "    <tr>\n",
       "      <th>6</th>\n",
       "      <td>73.321734</td>\n",
       "      <td>71.372711</td>\n",
       "      <td>60.674464</td>\n",
       "      <td>47.782408</td>\n",
       "      <td>37.527883</td>\n",
       "      <td>35.542324</td>\n",
       "      <td>37.911567</td>\n",
       "      <td>47.854023</td>\n",
       "      <td>73.536476</td>\n",
       "      <td>112.105992</td>\n",
       "    </tr>\n",
       "    <tr>\n",
       "      <th>7</th>\n",
       "      <td>75.051742</td>\n",
       "      <td>73.015838</td>\n",
       "      <td>53.455903</td>\n",
       "      <td>28.219186</td>\n",
       "      <td>17.842569</td>\n",
       "      <td>22.099211</td>\n",
       "      <td>26.510511</td>\n",
       "      <td>30.448887</td>\n",
       "      <td>36.671276</td>\n",
       "      <td>58.530839</td>\n",
       "    </tr>\n",
       "    <tr>\n",
       "      <th>8</th>\n",
       "      <td>71.755109</td>\n",
       "      <td>58.143516</td>\n",
       "      <td>32.200284</td>\n",
       "      <td>12.269181</td>\n",
       "      <td>9.004490</td>\n",
       "      <td>9.071636</td>\n",
       "      <td>13.220293</td>\n",
       "      <td>6.982142</td>\n",
       "      <td>10.885755</td>\n",
       "      <td>28.491325</td>\n",
       "    </tr>\n",
       "    <tr>\n",
       "      <th>9</th>\n",
       "      <td>64.796700</td>\n",
       "      <td>48.771816</td>\n",
       "      <td>28.222161</td>\n",
       "      <td>11.093000</td>\n",
       "      <td>11.837773</td>\n",
       "      <td>10.981729</td>\n",
       "      <td>12.078132</td>\n",
       "      <td>5.373091</td>\n",
       "      <td>3.096326</td>\n",
       "      <td>7.442082</td>\n",
       "    </tr>\n",
       "  </tbody>\n",
       "</table>\n",
       "</div>"
      ],
      "text/plain": [
       "            0           1           2           3           4           5  \\\n",
       "0    0.000000   32.517490   41.371020   46.218134   57.375017   80.122795   \n",
       "1   79.363314   77.999740   78.186094   82.905398   92.062113  106.214477   \n",
       "2  147.960966  139.148537  122.157396  109.183139  111.437111  125.585800   \n",
       "3  146.555752  141.384079  113.783896  107.516065  101.154391  103.273644   \n",
       "4   90.332617   76.901504   68.681946   69.707795   63.498966   76.000206   \n",
       "5   66.841790   48.328403   29.411540   38.961486   47.838278   51.311990   \n",
       "6   73.321734   71.372711   60.674464   47.782408   37.527883   35.542324   \n",
       "7   75.051742   73.015838   53.455903   28.219186   17.842569   22.099211   \n",
       "8   71.755109   58.143516   32.200284   12.269181    9.004490    9.071636   \n",
       "9   64.796700   48.771816   28.222161   11.093000   11.837773   10.981729   \n",
       "\n",
       "            6           7           8           9  \n",
       "0  101.968633  119.934791  155.916657   84.264173  \n",
       "1  130.094270  162.650254  223.486780  162.907916  \n",
       "2  136.908696  164.286731  227.692025  207.413206  \n",
       "3   99.364246  127.738069  170.976065  121.297901  \n",
       "4   86.779597   98.031088  145.658103  121.146722  \n",
       "5   62.018233   78.238630  126.493427  194.260874  \n",
       "6   37.911567   47.854023   73.536476  112.105992  \n",
       "7   26.510511   30.448887   36.671276   58.530839  \n",
       "8   13.220293    6.982142   10.885755   28.491325  \n",
       "9   12.078132    5.373091    3.096326    7.442082  "
      ]
     },
     "execution_count": 32,
     "metadata": {},
     "output_type": "execute_result"
    }
   ],
   "source": [
    "variogram = [[0 for i in range(10)] for j in range(10)]\n",
    "for h_i in range(10):\n",
    "    for h_j in range(10):\n",
    "        #print(\"\\nH: (\", h_i, \",\", h_j, \")\", sep=\"\")\n",
    "        #print(\"All pairs\")\n",
    "        count = 0\n",
    "        for i in range(11, 21):\n",
    "            for j in range(241, 251):\n",
    "                if i+h_i <= 20 and j+h_j <= 250:\n",
    "                    #print(\"(\",i+h_i ,\",\", j+h_j, \")\", sep=\"\", end=\" \")\n",
    "                    count += 1\n",
    "                    variogram[h_i][h_j] += (float(testing[(testing['X'] == i) & (testing['Y'] == j)]['U']) - float(testing[(testing['X'] == i+h_i) & (testing['Y'] == j+h_j)]['U']))**2\n",
    "                else:\n",
    "                    break\n",
    "        variogram[h_i][h_j]/= 2*count\n",
    "pd.DataFrame(variogram)"
   ]
  },
  {
   "cell_type": "code",
   "execution_count": 33,
   "metadata": {},
   "outputs": [
    {
     "data": {
      "text/plain": [
       "<matplotlib.contour.QuadContourSet at 0x7fac1bb85390>"
      ]
     },
     "execution_count": 33,
     "metadata": {},
     "output_type": "execute_result"
    },
    {
     "data": {
      "image/png": "[encoded data removed]",
      "text/plain": [
       "<Figure size 432x288 with 1 Axes>"
      ]
     },
     "metadata": {
      "needs_background": "light"
     },
     "output_type": "display_data"
    }
   ],
   "source": [
    "plt.contour(variogram)"
   ]
  },
  {
   "cell_type": "code",
   "execution_count": 34,
   "metadata": {},
   "outputs": [
    {
     "data": {
      "text/plain": [
       "Text(0, 0.5, 'Variogram')"
      ]
     },
     "execution_count": 34,
     "metadata": {},
     "output_type": "execute_result"
    },
    {
     "data": {
      "image/png": "[encoded data removed]",
      "text/plain": [
       "<Figure size 432x288 with 1 Axes>"
      ]
     },
     "metadata": {
      "needs_background": "light"
     },
     "output_type": "display_data"
    }
   ],
   "source": [
    "plt.plot(list(list(zip(*variogram))[0]))\n",
    "plt.xlabel('h in north-south direction')\n",
    "plt.ylabel('Variogram')"
   ]
  },
  {
   "cell_type": "code",
   "execution_count": 35,
   "metadata": {},
   "outputs": [
    {
     "data": {
      "text/plain": [
       "Text(0, 0.5, 'Variogram')"
      ]
     },
     "execution_count": 35,
     "metadata": {},
     "output_type": "execute_result"
    },
    {
     "data": {
      "image/png": "[encoded data removed]",
      "text/plain": [
       "<Figure size 432x288 with 1 Axes>"
      ]
     },
     "metadata": {
      "needs_background": "light"
     },
     "output_type": "display_data"
    }
   ],
   "source": [
    "plt.plot(variogram[0])\n",
    "plt.xlabel('h in east-west direction')\n",
    "plt.ylabel('Variogram')"
   ]
  },
  {
   "cell_type": "code",
   "execution_count": 36,
   "metadata": {},
   "outputs": [
    {
     "data": {
      "text/html": [
       "<div>\n",
       "<style scoped>\n",
       "    .dataframe tbody tr th:only-of-type {\n",
       "        vertical-align: middle;\n",
       "    }\n",
       "\n",
       "    .dataframe tbody tr th {\n",
       "        vertical-align: top;\n",
       "    }\n",
       "\n",
       "    .dataframe thead th {\n",
       "        text-align: right;\n",
       "    }\n",
       "</style>\n",
       "<table border=\"1\" class=\"dataframe\">\n",
       "  <thead>\n",
       "    <tr style=\"text-align: right;\">\n",
       "      <th></th>\n",
       "      <th>0</th>\n",
       "      <th>1</th>\n",
       "      <th>2</th>\n",
       "      <th>3</th>\n",
       "      <th>4</th>\n",
       "      <th>5</th>\n",
       "      <th>6</th>\n",
       "      <th>7</th>\n",
       "      <th>8</th>\n",
       "      <th>9</th>\n",
       "    </tr>\n",
       "  </thead>\n",
       "  <tbody>\n",
       "    <tr>\n",
       "      <th>0</th>\n",
       "      <td>0.000000</td>\n",
       "      <td>156.515927</td>\n",
       "      <td>239.932767</td>\n",
       "      <td>261.719670</td>\n",
       "      <td>326.985902</td>\n",
       "      <td>443.041986</td>\n",
       "      <td>577.008371</td>\n",
       "      <td>645.394360</td>\n",
       "      <td>845.073145</td>\n",
       "      <td>732.957750</td>\n",
       "    </tr>\n",
       "    <tr>\n",
       "      <th>1</th>\n",
       "      <td>552.775843</td>\n",
       "      <td>428.730904</td>\n",
       "      <td>404.241217</td>\n",
       "      <td>466.352152</td>\n",
       "      <td>598.399019</td>\n",
       "      <td>694.284892</td>\n",
       "      <td>804.729154</td>\n",
       "      <td>1017.444496</td>\n",
       "      <td>1458.567500</td>\n",
       "      <td>1847.267372</td>\n",
       "    </tr>\n",
       "    <tr>\n",
       "      <th>2</th>\n",
       "      <td>1000.516623</td>\n",
       "      <td>857.308247</td>\n",
       "      <td>781.448797</td>\n",
       "      <td>767.314245</td>\n",
       "      <td>805.038703</td>\n",
       "      <td>900.684049</td>\n",
       "      <td>980.539242</td>\n",
       "      <td>1174.145794</td>\n",
       "      <td>1612.508269</td>\n",
       "      <td>2204.882700</td>\n",
       "    </tr>\n",
       "    <tr>\n",
       "      <th>3</th>\n",
       "      <td>1004.764351</td>\n",
       "      <td>871.903956</td>\n",
       "      <td>751.754787</td>\n",
       "      <td>723.102202</td>\n",
       "      <td>696.851502</td>\n",
       "      <td>734.482627</td>\n",
       "      <td>721.041075</td>\n",
       "      <td>942.281619</td>\n",
       "      <td>1204.089914</td>\n",
       "      <td>1547.464014</td>\n",
       "    </tr>\n",
       "    <tr>\n",
       "      <th>4</th>\n",
       "      <td>531.236305</td>\n",
       "      <td>439.387596</td>\n",
       "      <td>400.545706</td>\n",
       "      <td>367.880798</td>\n",
       "      <td>332.060287</td>\n",
       "      <td>362.192627</td>\n",
       "      <td>408.706458</td>\n",
       "      <td>382.991553</td>\n",
       "      <td>414.605075</td>\n",
       "      <td>677.452217</td>\n",
       "    </tr>\n",
       "    <tr>\n",
       "      <th>5</th>\n",
       "      <td>414.302276</td>\n",
       "      <td>256.437390</td>\n",
       "      <td>217.929471</td>\n",
       "      <td>262.698001</td>\n",
       "      <td>355.782853</td>\n",
       "      <td>370.843960</td>\n",
       "      <td>403.579548</td>\n",
       "      <td>500.712623</td>\n",
       "      <td>665.803215</td>\n",
       "      <td>1241.246790</td>\n",
       "    </tr>\n",
       "    <tr>\n",
       "      <th>6</th>\n",
       "      <td>612.256693</td>\n",
       "      <td>542.315361</td>\n",
       "      <td>520.951266</td>\n",
       "      <td>471.322748</td>\n",
       "      <td>449.832906</td>\n",
       "      <td>478.417650</td>\n",
       "      <td>497.415294</td>\n",
       "      <td>567.811183</td>\n",
       "      <td>641.024800</td>\n",
       "      <td>868.493425</td>\n",
       "    </tr>\n",
       "    <tr>\n",
       "      <th>7</th>\n",
       "      <td>840.480805</td>\n",
       "      <td>844.767043</td>\n",
       "      <td>791.231006</td>\n",
       "      <td>703.453240</td>\n",
       "      <td>703.118700</td>\n",
       "      <td>798.352820</td>\n",
       "      <td>837.486508</td>\n",
       "      <td>913.941983</td>\n",
       "      <td>909.101600</td>\n",
       "      <td>1012.774983</td>\n",
       "    </tr>\n",
       "    <tr>\n",
       "      <th>8</th>\n",
       "      <td>1167.654093</td>\n",
       "      <td>1089.130047</td>\n",
       "      <td>931.151059</td>\n",
       "      <td>801.625771</td>\n",
       "      <td>740.464554</td>\n",
       "      <td>769.418960</td>\n",
       "      <td>740.421331</td>\n",
       "      <td>677.201092</td>\n",
       "      <td>515.865062</td>\n",
       "      <td>282.938000</td>\n",
       "    </tr>\n",
       "    <tr>\n",
       "      <th>9</th>\n",
       "      <td>1295.318115</td>\n",
       "      <td>1202.115067</td>\n",
       "      <td>1098.846894</td>\n",
       "      <td>987.438736</td>\n",
       "      <td>1013.809108</td>\n",
       "      <td>1096.316940</td>\n",
       "      <td>1063.654612</td>\n",
       "      <td>993.126417</td>\n",
       "      <td>800.041625</td>\n",
       "      <td>540.218450</td>\n",
       "    </tr>\n",
       "  </tbody>\n",
       "</table>\n",
       "</div>"
      ],
      "text/plain": [
       "             0            1            2           3            4  \\\n",
       "0     0.000000   156.515927   239.932767  261.719670   326.985902   \n",
       "1   552.775843   428.730904   404.241217  466.352152   598.399019   \n",
       "2  1000.516623   857.308247   781.448797  767.314245   805.038703   \n",
       "3  1004.764351   871.903956   751.754787  723.102202   696.851502   \n",
       "4   531.236305   439.387596   400.545706  367.880798   332.060287   \n",
       "5   414.302276   256.437390   217.929471  262.698001   355.782853   \n",
       "6   612.256693   542.315361   520.951266  471.322748   449.832906   \n",
       "7   840.480805   844.767043   791.231006  703.453240   703.118700   \n",
       "8  1167.654093  1089.130047   931.151059  801.625771   740.464554   \n",
       "9  1295.318115  1202.115067  1098.846894  987.438736  1013.809108   \n",
       "\n",
       "             5            6            7            8            9  \n",
       "0   443.041986   577.008371   645.394360   845.073145   732.957750  \n",
       "1   694.284892   804.729154  1017.444496  1458.567500  1847.267372  \n",
       "2   900.684049   980.539242  1174.145794  1612.508269  2204.882700  \n",
       "3   734.482627   721.041075   942.281619  1204.089914  1547.464014  \n",
       "4   362.192627   408.706458   382.991553   414.605075   677.452217  \n",
       "5   370.843960   403.579548   500.712623   665.803215  1241.246790  \n",
       "6   478.417650   497.415294   567.811183   641.024800   868.493425  \n",
       "7   798.352820   837.486508   913.941983   909.101600  1012.774983  \n",
       "8   769.418960   740.421331   677.201092   515.865062   282.938000  \n",
       "9  1096.316940  1063.654612   993.126417   800.041625   540.218450  "
      ]
     },
     "execution_count": 36,
     "metadata": {},
     "output_type": "execute_result"
    }
   ],
   "source": [
    "variogram = [[0 for i in range(10)] for j in range(10)]\n",
    "for h_i in range(10):\n",
    "    for h_j in range(10):\n",
    "        #print(\"\\nH: (\", h_i, \",\", h_j, \")\", sep=\"\")\n",
    "        #print(\"All pairs\")\n",
    "        count = 0\n",
    "        for i in range(11, 21):\n",
    "            for j in range(241, 251):\n",
    "                if i+h_i <= 20 and j+h_j <= 250:\n",
    "                    #print(\"(\",i+h_i ,\",\", j+h_j, \")\", sep=\"\", end=\" \")\n",
    "                    count += 1\n",
    "                    variogram[h_i][h_j] += (float(testing[(testing['X'] == i) & (testing['Y'] == j)]['V']) - float(testing[(testing['X'] == i+h_i) & (testing['Y'] == j+h_j)]['V']))**2\n",
    "                else:\n",
    "                    break\n",
    "        variogram[h_i][h_j]/= 2*count\n",
    "pd.DataFrame(variogram)"
   ]
  },
  {
   "cell_type": "code",
   "execution_count": 37,
   "metadata": {},
   "outputs": [
    {
     "data": {
      "text/plain": [
       "<matplotlib.contour.QuadContourSet at 0x7fac1bac9208>"
      ]
     },
     "execution_count": 37,
     "metadata": {},
     "output_type": "execute_result"
    },
    {
     "data": {
      "image/png": "[encoded data removed]",
      "text/plain": [
       "<Figure size 432x288 with 1 Axes>"
      ]
     },
     "metadata": {
      "needs_background": "light"
     },
     "output_type": "display_data"
    }
   ],
   "source": [
    "plt.contour(variogram)"
   ]
  },
  {
   "cell_type": "code",
   "execution_count": 38,
   "metadata": {},
   "outputs": [
    {
     "data": {
      "text/plain": [
       "Text(0, 0.5, 'Variogram')"
      ]
     },
     "execution_count": 38,
     "metadata": {},
     "output_type": "execute_result"
    },
    {
     "data": {
      "image/png": "[encoded data removed]",
      "text/plain": [
       "<Figure size 432x288 with 1 Axes>"
      ]
     },
     "metadata": {
      "needs_background": "light"
     },
     "output_type": "display_data"
    }
   ],
   "source": [
    "plt.plot(list(list(zip(*variogram))[0]))\n",
    "plt.xlabel('h in north-south direction')\n",
    "plt.ylabel('Variogram')\n"
   ]
  },
  {
   "cell_type": "code",
   "execution_count": 39,
   "metadata": {},
   "outputs": [
    {
     "data": {
      "text/plain": [
       "Text(0, 0.5, 'Variogram')"
      ]
     },
     "execution_count": 39,
     "metadata": {},
     "output_type": "execute_result"
    },
    {
     "data": {
      "image/png": "[encoded data removed]",
      "text/plain": [
       "<Figure size 432x288 with 1 Axes>"
      ]
     },
     "metadata": {
      "needs_background": "light"
     },
     "output_type": "display_data"
    }
   ],
   "source": [
    "plt.plot(variogram[0])\n",
    "plt.xlabel('h in east-west direction')\n",
    "plt.ylabel('Variogram')"
   ]
  },
  {
   "cell_type": "code",
   "execution_count": null,
   "metadata": {},
   "outputs": [],
   "source": []
  }
 ],
 "metadata": {
  "kernelspec": {
   "display_name": "Python 3",
   "language": "python",
   "name": "python3"
  },
  "language_info": {
   "codemirror_mode": {
    "name": "ipython",
    "version": 3
   },
   "file_extension": ".py",
   "mimetype": "text/x-python",
   "name": "python",
   "nbconvert_exporter": "python",
   "pygments_lexer": "ipython3",
   "version": "3.6.5"
  }
 },
 "nbformat": 4,
 "nbformat_minor": 2
}
